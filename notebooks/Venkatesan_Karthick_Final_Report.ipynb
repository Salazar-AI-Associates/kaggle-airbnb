{
 "cells": [
  {
   "cell_type": "markdown",
   "metadata": {},
   "source": [
    "# <center>Karthick Venkatesan</center>\n",
    "### <center>karvenka@umail.iu.edu</center>"
   ]
  },
  {
   "cell_type": "markdown",
   "metadata": {},
   "source": [
    "## Introduction"
   ]
  },
  {
   "cell_type": "markdown",
   "metadata": {},
   "source": [
    "Airbnb is a web service that provides customers with the ability to list, find, and rent lodging in\n",
    "locations across the globe. In order for Airbnb to provide a personalized experience for its customers, it\n",
    "has explored the possibility of predicting the country destination in which a user will make a booking.\n",
    "With this information, Airbnb c an create more personalized content with its member community, decrease\n",
    "the average time to first booking, and better forecast demand. These goals provide mutual benefit to\n",
    "Airbnb and its customers: personal recommendations can improve customer engagement with the\n",
    "platform, thus encouraging both repeat bookings and referrals to Airbnb for those in a customer’s network\n",
    "of close friends and family.\n",
    "In the context of the dataset we have been provided, our specific task is to predict the first\n",
    "booking destination for new Airbnb customers travelling from the United States. The response variable is\n",
    "the destination where the booking is made. This can be one of 12 possible values: ' US', 'FR', 'CA', 'GB',\n",
    "'ES', 'IT', 'PT', 'NL',' DE', 'AU', 'NDF', and 'other'. A ll of these correspond to two letter country\n",
    "abbreviations with the exception of ‘NDF’, which corresponds to ‘No destination found’ and implies that\n",
    "the user has not made a booking. Thus, embedded in the multiclass\n",
    "classification problem is a binary\n",
    "classification. In addition to knowing where a customer will make a booking, predictive modeling can\n",
    "also help Airbnb determine which customers are likely to make a booking. Response ‘other’ implies that\n",
    "the user made a booking to a country other than the 10 specified."
   ]
  },
  {
   "cell_type": "markdown",
   "metadata": {},
   "source": [
    "## Dataset"
   ]
  },
  {
   "cell_type": "markdown",
   "metadata": {},
   "source": [
    "### Description of the Dataset\n",
    "The dataset we are researching is provided by Airbnb\n",
    "which contains a list of users along with their demographics,\n",
    "web session records, and some summary statistics. The whole\n",
    "dataset contains 5 csv files:train-users, test-users, sessions,\n",
    "countries, age-gender-bkts.\n",
    "\n",
    "1) train-users and test-users: The train-users files contains 171239 training examples with 16 properties:\n",
    "  - id\n",
    "  - date-account-created\n",
    "  - date-first-booking\n",
    "  - gender\n",
    "  - age\n",
    "  - signup-method\n",
    "  - signup-flow\n",
    "  - language\n",
    "  - affiliate-channel\n",
    "  - affiliate-provider\n",
    "  - first-affiliate-tracked\n",
    "  - signup-app\n",
    "  - first-device-type\n",
    "  - first-browser\n",
    "  - country-destination\n",
    "  - timestamp-firstactive\n",
    "\n",
    "The test-users have 43673 items and 15 properties.The\n",
    "values of country-destination are missing and that is the value\n",
    "we are asked to predict.\n",
    "The training and test sets are split by dates. In the test set,\n",
    "we are expected to predict coountry destination of all the new\n",
    "users with first activities after 4/1/2014."
   ]
  },
  {
   "cell_type": "markdown",
   "metadata": {},
   "source": [
    "2) sessions: The sessions file is the web sessions log records for users.\n",
    "The sessions file contains 5600850 examples and 6 properties:\n",
    "user-id, action, action-type, action-detail, device-type,\n",
    "secs-elapsed.There are actually 74610 different users in the\n",
    "file."
   ]
  },
  {
   "cell_type": "markdown",
   "metadata": {},
   "source": [
    "3) countries: The countries file contains statistics of destination countries in this dataset and their geometric information.\n",
    "It has information for 10 countries and their 7 different\n",
    "properties , such as longitude and latitude."
   ]
  },
  {
   "cell_type": "markdown",
   "metadata": {},
   "source": [
    "4) age-gender-bkts: This file contains statistics of users’\n",
    "age group, gender, country of destination. It consists 420\n",
    "examples and 5 properties."
   ]
  },
  {
   "cell_type": "markdown",
   "metadata": {},
   "source": [
    "### Exploratory Analysis of the Dataset"
   ]
  },
  {
   "cell_type": "markdown",
   "metadata": {},
   "source": [
    "1) users’ language: The language spoken is distributed as\n",
    "It is not surprising that most users speaks English since\n",
    "Airbnb is a company located in US and its customers are\n",
    "mostly Americans."
   ]
  },
  {
   "cell_type": "markdown",
   "metadata": {},
   "source": [
    "2) users’ age: The age distribution is shown as Fig.2.\n",
    "In the figure, we can see that users’ age are most between\n",
    "24 and 36.Young users are dominant."
   ]
  },
  {
   "cell_type": "markdown",
   "metadata": {},
   "source": [
    "3) users’ gender: The gender distribution is shown as Fig.3\n",
    "We can see that there are a lot of missing values for gender.\n",
    "Almost half of the users did not input there gender information."
   ]
  },
  {
   "cell_type": "markdown",
   "metadata": {},
   "source": [
    "4) users’ country destination: The distribution of destination\n",
    "is shown as Fig.4.\n",
    "We can see from the Fig.4 that most people ended up\n",
    "booking nothing which is indicated as NDF.Among the users\n",
    "who have booked in the Airbnb, US is the most popular choice."
   ]
  },
  {
   "cell_type": "markdown",
   "metadata": {},
   "source": [
    "5) Analysis of age-gender-bkts: We computed to population\n",
    "ratio according to their country destination: whether it is\n",
    "US or not. And then sort the ratio in ascending order. Table.I\n",
    "is our result table.\n",
    "From Table.I, we noticed that people are younger when\n",
    "their country destination is US while people are older when\n",
    "their country destination is not US."
   ]
  },
  {
   "cell_type": "markdown",
   "metadata": {},
   "source": [
    "### Data Pre-Processing"
   ]
  },
  {
   "cell_type": "code",
   "execution_count": null,
   "metadata": {
    "collapsed": true
   },
   "outputs": [],
   "source": [
    "# Draw inline\n",
    "%matplotlib inline\n",
    "\n",
    "import numpy as np\n",
    "import pandas as pd\n",
    "import matplotlib.pyplot as plt\n",
    "import seaborn as sns\n",
    "import datetime\n",
    "\n",
    "# Set figure aesthetics\n",
    "sns.set_style(\"white\", {'ytick.major.size': 10.0})\n",
    "sns.set_context(\"poster\", font_scale=1.1)"
   ]
  },
  {
   "cell_type": "code",
   "execution_count": null,
   "metadata": {
    "collapsed": true
   },
   "outputs": [],
   "source": []
  }
 ],
 "metadata": {
  "kernelspec": {
   "display_name": "Python 3",
   "language": "python",
   "name": "python3"
  },
  "language_info": {
   "codemirror_mode": {
    "name": "ipython",
    "version": 3
   },
   "file_extension": ".py",
   "mimetype": "text/x-python",
   "name": "python",
   "nbconvert_exporter": "python",
   "pygments_lexer": "ipython3",
   "version": "3.6.1"
  }
 },
 "nbformat": 4,
 "nbformat_minor": 2
}
